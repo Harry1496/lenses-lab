{
 "cells": [
  {
   "cell_type": "code",
   "execution_count": 5,
   "metadata": {},
   "outputs": [
    {
     "name": "stdout",
     "output_type": "stream",
     "text": [
      "diverging lense exp measurements -22.478740157480317 -26.296932515337417\n",
      "diverging lense exp average -24.387836336408867\n",
      "diverging lense f =  -27.089626556016597\n",
      "converging lense direct f =  16.2\n",
      "converging lense experimental f =  15.208483547409438\n",
      "converging lense experimental f =  15.107218934911243 15.330731707317073 15.187499999999998\n"
     ]
    }
   ],
   "source": [
    "def rule_1(c,A_err):\n",
    "    q = c * A_err\n",
    "    return q\n",
    "\n",
    "def rule_2(a,b,c,d):\n",
    "    q = abs(a * c * b**(c-1)) * d\n",
    "    return q\n",
    "    \n",
    "def rule_3(A_err,B_err):\n",
    "    q = np.sqrt(A_err**2 + B_err**2)\n",
    "    return q\n",
    "\n",
    "def rule_4(Q,A,A_err,m,B,B_err,n):\n",
    "    q_err = abs(Q)*np.sqrt((m*(A_err/A))**2+(n*(B_err/B))**2)\n",
    "    return q_err\n",
    "\n",
    "\n",
    "#part 1.1 - ---------\n",
    "\n",
    "fp1 = 16.2\n",
    "fp1_err = 1.0\n",
    "\n",
    "#part2.1\n",
    "\n",
    "fpc = 40.3\n",
    "fp2 = 1/((1/fpc)-(1/fp1))\n",
    "\n",
    "\n",
    "#part 1.2 ------\n",
    "\n",
    "af1 = 1/((1/64.8)+(1/19.7))\n",
    "bf1 = 1/((1/32.4)+(1/29.1))\n",
    "cf1 = 1/((1/24.3)+(1/40.5))\n",
    "\n",
    "f1avg = (af1+bf1+cf1)/3\n",
    "\n",
    "#part 2.2\n",
    "\n",
    "bf2 = 1/((1/-11.7)+(1/24.4))\n",
    "cf2 = 1/((1/-14.1)+(1/30.4))\n",
    "f2avg = (bf2+cf2)/2\n",
    "print('diverging lense exp measurements',bf2,cf2)\n",
    "print('diverging lense exp average',f2avg)\n",
    "print('diverging lense f = ',fp2)\n",
    "print('converging lense direct f = ',fp1)\n",
    "print('converging lense experimental f = ',f1avg)\n",
    "print('converging lense experimental f = ',af1,bf1,cf1)\n",
    "\n",
    "\n",
    "\n",
    "\n"
   ]
  },
  {
   "cell_type": "code",
   "execution_count": null,
   "metadata": {},
   "outputs": [],
   "source": []
  }
 ],
 "metadata": {
  "kernelspec": {
   "display_name": "Python 3",
   "language": "python",
   "name": "python3"
  },
  "language_info": {
   "codemirror_mode": {
    "name": "ipython",
    "version": 3
   },
   "file_extension": ".py",
   "mimetype": "text/x-python",
   "name": "python",
   "nbconvert_exporter": "python",
   "pygments_lexer": "ipython3",
   "version": "3.8.3"
  }
 },
 "nbformat": 4,
 "nbformat_minor": 5
}
